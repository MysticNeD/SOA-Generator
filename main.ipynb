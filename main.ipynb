import ipywidgets as widgets
from IPython.display import display, clear_output
import run_excel
import threading
import io
import sys
import logging

entity_mapping = {
    "ABC SDN BHD": "1232",
    "DEF SDN BHD": "2345",
    "GHI SDN BHD": "9876",
}

entity_names = list(entity_mapping.keys())
entity_codes = list(entity_mapping.values())

def update_entity_code(event):
    selected_name = entity_name_combobox.value
    if selected_name in entity_mapping:
        entity_code_combobox.value = entity_mapping[selected_name]

def update_entity_name(event):
    entered_code = entity_code_combobox.value
    for name, code in entity_mapping.items():
        if code == entered_code:
            entity_name_combobox.value = name
            return
    entity_name_combobox.value = ""

def upload_file(change):
    global input_file, uploaded_filename
    uploaded_file_info = list(change['new'].values())[0]
    metadata = uploaded_file_info.get('metadata', {})
    input_file = uploaded_file_info['content']
    uploaded_filename = metadata.get('name', 'uploaded_file')
    if input_file:
        label.value = "File uploaded successfully!"

def generate_file(change):
    output_file = output_file_text.value
    if not output_file.endswith(".xlsx"):
        output_file += ".xlsx"
    entity_name = entity_name_combobox.value
    entity_code = entity_code_combobox.value
    if input_file and output_file and entity_name and entity_code:
        process_file(input_file, output_file, entity_name, entity_code, uploaded_filename)

def process_file(input_file, output_file, entity_name, entity_code, uploaded_filename):
    temp_filename = uploaded_filename
    with open(temp_filename, "wb") as f:
        f.write(input_file)  # Write the bytes directly to the file
    run_excel.generate_soa(temp_filename, output_file, entity_name, entity_code)
    label.value = "File processed and saved successfully!"

# Widgets
upload_button = widgets.FileUpload(accept='.xlsx,.xls', multiple=False)
upload_button.observe(upload_file, names='value')

output_file_text = widgets.Text(description="Output File:")
entity_name_combobox = widgets.Combobox(options=entity_names, description="Entity Name:", placeholder = "Select Entity Name")
entity_name_combobox.observe(update_entity_code, names='value')
entity_code_combobox = widgets.Combobox(options=entity_codes, description="Entity Code:", placeholder = "Select or type Entity Code")
entity_code_combobox.observe(update_entity_name, names='value')
generate_button = widgets.Button(description="Generate File")
generate_button.on_click(generate_file)

label = widgets.Label(value="")

# Display widgets
display(upload_button, output_file_text, entity_name_combobox, entity_code_combobox, generate_button, label)
